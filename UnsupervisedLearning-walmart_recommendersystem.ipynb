{
 "cells": [
  {
   "cell_type": "markdown",
   "metadata": {},
   "source": [
    "# Online Shopping Recommender System - Walmart E-Commerce - Using Unsupervised Learning\n"
   ]
  },
  {
   "cell_type": "markdown",
   "metadata": {},
   "source": [
    "### This project aims to develop a Personalized Online Shopping Recommender System that enhances the shopping experience by providing tailored product suggestions to users. \n",
    "### This notebook demonstrates rating based recommends products based on ratings and content-based filtering, which recommends products based on item descriptions and user preferences. "
   ]
  },
  {
   "cell_type": "code",
   "execution_count": null,
   "metadata": {},
   "outputs": [],
   "source": []
  },
  {
   "cell_type": "markdown",
   "metadata": {},
   "source": [
    "I have built an unsupervised learning recommender system using the walmart dataset kaggle and performed below.\n",
    "#### 'Walmart product and review data.csv\" \n",
    "\n",
    "\t \n",
    "1. Data Prepartion - Data Cleaning , handling nulls , feature selections\n",
    "2. Exploratory Data Analysis (EDA) -  Uniques counts, most Popular products/brands/Categories and Visulizations \n",
    "2. Unsupervised Learning Model Building\n",
    "    Feature extraction involves using PCA for dimensionality reduction, which simplifies feature vectors for better visualization and clustering.\n",
    "   Hierarchical clustering is then applied to the reduced feature set to group similar products. \n",
    "   Pairwise similarities between products are computed using metrics like cosine similarity, which is crucial for generating    visually similar product recommendations."
   ]
  },
  {
   "cell_type": "markdown",
   "metadata": {},
   "source": [
    "# 1. Data Preparation"
   ]
  },
  {
   "cell_type": "markdown",
   "metadata": {},
   "source": [
    "### Libraries and Packages"
   ]
  },
  {
   "cell_type": "code",
   "execution_count": 1,
   "metadata": {},
   "outputs": [],
   "source": [
    "import numpy as np\n",
    "import pandas as pd\n",
    "import matplotlib.pyplot as plt\n",
    "import seaborn as sns\n",
    "import os\n",
    "from sklearn.model_selection import train_test_split\n",
    "\n",
    "from sklearn.cluster import AgglomerativeClustering\n",
    "from sklearn.metrics.pairwise import cosine_similarity\n",
    "from sklearn.feature_extraction.text import TfidfVectorizer\n",
    "\n",
    "from scipy.spatial.distance import cdist\n",
    "from tqdm import tqdm\n",
    "\n",
    "from sklearn.ensemble import RandomForestRegressor\n"
   ]
  },
  {
   "cell_type": "code",
   "execution_count": 2,
   "metadata": {},
   "outputs": [
    {
     "data": {
      "text/html": [
       "<div>\n",
       "<style scoped>\n",
       "    .dataframe tbody tr th:only-of-type {\n",
       "        vertical-align: middle;\n",
       "    }\n",
       "\n",
       "    .dataframe tbody tr th {\n",
       "        vertical-align: top;\n",
       "    }\n",
       "\n",
       "    .dataframe thead th {\n",
       "        text-align: right;\n",
       "    }\n",
       "</style>\n",
       "<table border=\"1\" class=\"dataframe\">\n",
       "  <thead>\n",
       "    <tr style=\"text-align: right;\">\n",
       "      <th></th>\n",
       "      <th>Uniq Id</th>\n",
       "      <th>Crawl Timestamp</th>\n",
       "      <th>Dataset Origin</th>\n",
       "      <th>Product Id</th>\n",
       "      <th>Product Barcode</th>\n",
       "      <th>Product Company Type Source</th>\n",
       "      <th>Product Brand Source</th>\n",
       "      <th>Product Brand Normalised Source</th>\n",
       "      <th>Product Name Source</th>\n",
       "      <th>Match Rank</th>\n",
       "      <th>...</th>\n",
       "      <th>Product Currency</th>\n",
       "      <th>Product Available Inventory</th>\n",
       "      <th>Product Image Url</th>\n",
       "      <th>Product Model Number</th>\n",
       "      <th>Product Tags</th>\n",
       "      <th>Product Contents</th>\n",
       "      <th>Product Rating</th>\n",
       "      <th>Product Reviews Count</th>\n",
       "      <th>Bsr</th>\n",
       "      <th>Joining Key</th>\n",
       "    </tr>\n",
       "  </thead>\n",
       "  <tbody>\n",
       "    <tr>\n",
       "      <th>0</th>\n",
       "      <td>1705736792d82aa2f2d3caf1c07c53f4</td>\n",
       "      <td>2020-09-24 03:21:12 +0000</td>\n",
       "      <td>NaN</td>\n",
       "      <td>2e17bf4acecdece67fc00f07ad62c910</td>\n",
       "      <td>NaN</td>\n",
       "      <td>Competitor</td>\n",
       "      <td>NaN</td>\n",
       "      <td>NaN</td>\n",
       "      <td>NaN</td>\n",
       "      <td>NaN</td>\n",
       "      <td>...</td>\n",
       "      <td>USD</td>\n",
       "      <td>111111111</td>\n",
       "      <td>https://i5.walmartimages.com/asr/0e1f4c51-c1a4...</td>\n",
       "      <td>NaN</td>\n",
       "      <td>OPI Infinite Shine, Nail Lacquer Nail Polish, ...</td>\n",
       "      <td>NaN</td>\n",
       "      <td>NaN</td>\n",
       "      <td>NaN</td>\n",
       "      <td>NaN</td>\n",
       "      <td>81350af1be98d3753cf964709f0c766a</td>\n",
       "    </tr>\n",
       "    <tr>\n",
       "      <th>1</th>\n",
       "      <td>95a9fe6f4810fcfc7ff244fd06784f11</td>\n",
       "      <td>2020-10-30 14:04:08 +0000</td>\n",
       "      <td>NaN</td>\n",
       "      <td>076e5854a62dd283c253d6bae415af1f</td>\n",
       "      <td>NaN</td>\n",
       "      <td>Competitor</td>\n",
       "      <td>NaN</td>\n",
       "      <td>NaN</td>\n",
       "      <td>NaN</td>\n",
       "      <td>NaN</td>\n",
       "      <td>...</td>\n",
       "      <td>USD</td>\n",
       "      <td>111111111</td>\n",
       "      <td>https://i5.walmartimages.com/asr/9c8e42e4-13a5...</td>\n",
       "      <td>NaN</td>\n",
       "      <td>Nice 'n Easy Permanent Color, 111 Natural Medi...</td>\n",
       "      <td>NaN</td>\n",
       "      <td>NaN</td>\n",
       "      <td>NaN</td>\n",
       "      <td>NaN</td>\n",
       "      <td>0353e63907dc0de0c734db4690300057</td>\n",
       "    </tr>\n",
       "    <tr>\n",
       "      <th>2</th>\n",
       "      <td>8d4d0330178d3ed181b15a4102b287f2</td>\n",
       "      <td>2020-08-06 05:51:47 +0000</td>\n",
       "      <td>NaN</td>\n",
       "      <td>8a4fe5d9c7a6ed26cc44d785a454b124</td>\n",
       "      <td>NaN</td>\n",
       "      <td>Competitor</td>\n",
       "      <td>NaN</td>\n",
       "      <td>NaN</td>\n",
       "      <td>NaN</td>\n",
       "      <td>NaN</td>\n",
       "      <td>...</td>\n",
       "      <td>USD</td>\n",
       "      <td>111111111</td>\n",
       "      <td>https://i5.walmartimages.com/asr/e3a601c2-6a2b...</td>\n",
       "      <td>NaN</td>\n",
       "      <td>Clairol Nice 'N Easy Permanent Color 7/106A Na...</td>\n",
       "      <td>NaN</td>\n",
       "      <td>4.5</td>\n",
       "      <td>29221.0</td>\n",
       "      <td>NaN</td>\n",
       "      <td>b6985c8e94815fbca2319dbb8bf228af</td>\n",
       "    </tr>\n",
       "    <tr>\n",
       "      <th>3</th>\n",
       "      <td>fddc4df45b35efd886794b261f730c51</td>\n",
       "      <td>2020-07-15 11:22:04 +0000</td>\n",
       "      <td>NaN</td>\n",
       "      <td>03b5fb878a33eadff8b033419eab9669</td>\n",
       "      <td>NaN</td>\n",
       "      <td>Competitor</td>\n",
       "      <td>NaN</td>\n",
       "      <td>NaN</td>\n",
       "      <td>NaN</td>\n",
       "      <td>NaN</td>\n",
       "      <td>...</td>\n",
       "      <td>USD</td>\n",
       "      <td>111111111</td>\n",
       "      <td>https://i5.walmartimages.com/asr/25b4b467-bc61...</td>\n",
       "      <td>NaN</td>\n",
       "      <td>Kokie Professional Matte Lipstick, Hot Berry, ...</td>\n",
       "      <td>NaN</td>\n",
       "      <td>NaN</td>\n",
       "      <td>NaN</td>\n",
       "      <td>NaN</td>\n",
       "      <td>85b70fded09186f00467cea2f935b779</td>\n",
       "    </tr>\n",
       "    <tr>\n",
       "      <th>4</th>\n",
       "      <td>0990cf89a59ca6a0460349a3e4f51d42</td>\n",
       "      <td>2020-11-26T12:27:20+00:00</td>\n",
       "      <td>NaN</td>\n",
       "      <td>ce3d761e57d6ccad80619297b5b1bcbc</td>\n",
       "      <td>NaN</td>\n",
       "      <td>Competitor</td>\n",
       "      <td>NaN</td>\n",
       "      <td>NaN</td>\n",
       "      <td>NaN</td>\n",
       "      <td>NaN</td>\n",
       "      <td>...</td>\n",
       "      <td>USD</td>\n",
       "      <td>111111111</td>\n",
       "      <td>https://i5.walmartimages.com/asr/1a2ebb06-cd01...</td>\n",
       "      <td>NaN</td>\n",
       "      <td>Gillette TRAC II Plus Razor Blade Refills, Fit...</td>\n",
       "      <td>NaN</td>\n",
       "      <td>NaN</td>\n",
       "      <td>131.0</td>\n",
       "      <td>NaN</td>\n",
       "      <td>41c870871328e97da6fb036bb7d4b2da</td>\n",
       "    </tr>\n",
       "  </tbody>\n",
       "</table>\n",
       "<p>5 rows × 32 columns</p>\n",
       "</div>"
      ],
      "text/plain": [
       "                            Uniq Id            Crawl Timestamp  \\\n",
       "0  1705736792d82aa2f2d3caf1c07c53f4  2020-09-24 03:21:12 +0000   \n",
       "1  95a9fe6f4810fcfc7ff244fd06784f11  2020-10-30 14:04:08 +0000   \n",
       "2  8d4d0330178d3ed181b15a4102b287f2  2020-08-06 05:51:47 +0000   \n",
       "3  fddc4df45b35efd886794b261f730c51  2020-07-15 11:22:04 +0000   \n",
       "4  0990cf89a59ca6a0460349a3e4f51d42  2020-11-26T12:27:20+00:00   \n",
       "\n",
       "   Dataset Origin                        Product Id  Product Barcode  \\\n",
       "0             NaN  2e17bf4acecdece67fc00f07ad62c910              NaN   \n",
       "1             NaN  076e5854a62dd283c253d6bae415af1f              NaN   \n",
       "2             NaN  8a4fe5d9c7a6ed26cc44d785a454b124              NaN   \n",
       "3             NaN  03b5fb878a33eadff8b033419eab9669              NaN   \n",
       "4             NaN  ce3d761e57d6ccad80619297b5b1bcbc              NaN   \n",
       "\n",
       "  Product Company Type Source Product Brand Source  \\\n",
       "0                  Competitor                  NaN   \n",
       "1                  Competitor                  NaN   \n",
       "2                  Competitor                  NaN   \n",
       "3                  Competitor                  NaN   \n",
       "4                  Competitor                  NaN   \n",
       "\n",
       "  Product Brand Normalised Source Product Name Source  Match Rank  ...  \\\n",
       "0                             NaN                 NaN         NaN  ...   \n",
       "1                             NaN                 NaN         NaN  ...   \n",
       "2                             NaN                 NaN         NaN  ...   \n",
       "3                             NaN                 NaN         NaN  ...   \n",
       "4                             NaN                 NaN         NaN  ...   \n",
       "\n",
       "   Product Currency  Product Available Inventory  \\\n",
       "0               USD                    111111111   \n",
       "1               USD                    111111111   \n",
       "2               USD                    111111111   \n",
       "3               USD                    111111111   \n",
       "4               USD                    111111111   \n",
       "\n",
       "                                   Product Image Url Product Model Number  \\\n",
       "0  https://i5.walmartimages.com/asr/0e1f4c51-c1a4...                  NaN   \n",
       "1  https://i5.walmartimages.com/asr/9c8e42e4-13a5...                  NaN   \n",
       "2  https://i5.walmartimages.com/asr/e3a601c2-6a2b...                  NaN   \n",
       "3  https://i5.walmartimages.com/asr/25b4b467-bc61...                  NaN   \n",
       "4  https://i5.walmartimages.com/asr/1a2ebb06-cd01...                  NaN   \n",
       "\n",
       "                                        Product Tags Product Contents  \\\n",
       "0  OPI Infinite Shine, Nail Lacquer Nail Polish, ...              NaN   \n",
       "1  Nice 'n Easy Permanent Color, 111 Natural Medi...              NaN   \n",
       "2  Clairol Nice 'N Easy Permanent Color 7/106A Na...              NaN   \n",
       "3  Kokie Professional Matte Lipstick, Hot Berry, ...              NaN   \n",
       "4  Gillette TRAC II Plus Razor Blade Refills, Fit...              NaN   \n",
       "\n",
       "   Product Rating  Product Reviews Count  Bsr  \\\n",
       "0             NaN                    NaN  NaN   \n",
       "1             NaN                    NaN  NaN   \n",
       "2             4.5                29221.0  NaN   \n",
       "3             NaN                    NaN  NaN   \n",
       "4             NaN                  131.0  NaN   \n",
       "\n",
       "                        Joining Key  \n",
       "0  81350af1be98d3753cf964709f0c766a  \n",
       "1  0353e63907dc0de0c734db4690300057  \n",
       "2  b6985c8e94815fbca2319dbb8bf228af  \n",
       "3  85b70fded09186f00467cea2f935b779  \n",
       "4  41c870871328e97da6fb036bb7d4b2da  \n",
       "\n",
       "[5 rows x 32 columns]"
      ]
     },
     "execution_count": 2,
     "metadata": {},
     "output_type": "execute_result"
    }
   ],
   "source": [
    "# Read the CSV file\n",
    "df = pd.read_csv('./marketing_sample_for_walmart_product_and_review.tsv', sep='\\t',error_bad_lines=False)\n",
    "\n",
    "df.head()"
   ]
  },
  {
   "cell_type": "markdown",
   "metadata": {},
   "source": [
    "### Data Cleaning and Features selection"
   ]
  },
  {
   "cell_type": "code",
   "execution_count": 3,
   "metadata": {},
   "outputs": [],
   "source": [
    "df = df[['Uniq Id', 'Product Id', 'Product Category', 'Product Brand', 'Product Name', 'Product Description', 'Product Image Url', 'Product Tags',\n",
    "                  'Product Rating', 'Product Reviews Count']]"
   ]
  },
  {
   "cell_type": "code",
   "execution_count": 4,
   "metadata": {},
   "outputs": [],
   "source": [
    "# handling null values\n",
    "\n",
    "df['Product Category'] = df['Product Category'].fillna(\" \")\n",
    "df['Product Brand'] =df['Product Brand'].fillna(\" \")\n",
    "df['Product Description'] = df['Product Description'].fillna(\" \")\n",
    "df['Product Reviews Count'] =df['Product Reviews Count'].fillna(0)\n",
    "df['Product Rating'] = df['Product Rating'].fillna(0)"
   ]
  },
  {
   "cell_type": "code",
   "execution_count": 5,
   "metadata": {},
   "outputs": [
    {
     "name": "stdout",
     "output_type": "stream",
     "text": [
      "<class 'pandas.core.frame.DataFrame'>\n",
      "RangeIndex: 5000 entries, 0 to 4999\n",
      "Data columns (total 10 columns):\n",
      " #   Column                 Non-Null Count  Dtype  \n",
      "---  ------                 --------------  -----  \n",
      " 0   Uniq Id                5000 non-null   object \n",
      " 1   Product Id             5000 non-null   object \n",
      " 2   Product Category       5000 non-null   object \n",
      " 3   Product Brand          5000 non-null   object \n",
      " 4   Product Name           5000 non-null   object \n",
      " 5   Product Description    5000 non-null   object \n",
      " 6   Product Image Url      5000 non-null   object \n",
      " 7   Product Tags           5000 non-null   object \n",
      " 8   Product Rating         5000 non-null   float64\n",
      " 9   Product Reviews Count  5000 non-null   float64\n",
      "dtypes: float64(2), object(8)\n",
      "memory usage: 390.8+ KB\n"
     ]
    }
   ],
   "source": [
    "df.info()"
   ]
  },
  {
   "cell_type": "code",
   "execution_count": 6,
   "metadata": {},
   "outputs": [
    {
     "data": {
      "text/plain": [
       "Uniq Id                  0\n",
       "Product Id               0\n",
       "Product Category         0\n",
       "Product Brand            0\n",
       "Product Name             0\n",
       "Product Description      0\n",
       "Product Image Url        0\n",
       "Product Tags             0\n",
       "Product Rating           0\n",
       "Product Reviews Count    0\n",
       "dtype: int64"
      ]
     },
     "execution_count": 6,
     "metadata": {},
     "output_type": "execute_result"
    }
   ],
   "source": [
    "df.isnull().sum()"
   ]
  },
  {
   "cell_type": "code",
   "execution_count": 7,
   "metadata": {},
   "outputs": [
    {
     "data": {
      "text/plain": [
       "Index(['Uniq Id', 'Product Id', 'Product Category', 'Product Brand',\n",
       "       'Product Name', 'Product Description', 'Product Image Url',\n",
       "       'Product Tags', 'Product Rating', 'Product Reviews Count'],\n",
       "      dtype='object')"
      ]
     },
     "execution_count": 7,
     "metadata": {},
     "output_type": "execute_result"
    }
   ],
   "source": [
    "df.columns"
   ]
  },
  {
   "cell_type": "markdown",
   "metadata": {},
   "source": [
    "### Renaming Columns"
   ]
  },
  {
   "cell_type": "code",
   "execution_count": 8,
   "metadata": {},
   "outputs": [
    {
     "data": {
      "text/plain": [
       "Index(['ID', 'ProdID', 'Category', 'Brand', 'Name', 'Description', 'ImageUrl',\n",
       "       'Tags', 'Rating', 'ReviewsCount'],\n",
       "      dtype='object')"
      ]
     },
     "execution_count": 8,
     "metadata": {},
     "output_type": "execute_result"
    }
   ],
   "source": [
    "columns_name_mapping = {'Uniq Id':'ID', 'Product Id':'ProdID', 'Product Category':'Category', 'Product Brand':'Brand',\n",
    "       'Product Name':'Name', 'Product Description':'Description', 'Product Image Url':'ImageUrl',\n",
    "       'Product Tags':'Tags', 'Product Rating':'Rating', 'Product Reviews Count':'ReviewsCount'}\n",
    "\n",
    "df.rename(columns = columns_name_mapping, inplace = True)\n",
    "df.columns"
   ]
  },
  {
   "cell_type": "markdown",
   "metadata": {},
   "source": [
    "### Format data "
   ]
  },
  {
   "cell_type": "code",
   "execution_count": 9,
   "metadata": {},
   "outputs": [],
   "source": [
    "df['ID'] = df['ID'].astype(str)\n",
    "df['ProdID'] = df['ProdID'].astype(str)\n",
    "df['ID'] = df['ID'].str.extract(r'(\\d+)').astype(float)\n",
    "df['ProdID'] = df['ProdID'].str.extract(r'(\\d+)').astype(float)"
   ]
  },
  {
   "cell_type": "markdown",
   "metadata": {},
   "source": [
    "# 2. Exploratory Data Analysis - Inspect, Visualize, and Clean the Data "
   ]
  },
  {
   "cell_type": "code",
   "execution_count": 10,
   "metadata": {},
   "outputs": [
    {
     "data": {
      "text/html": [
       "<div>\n",
       "<style scoped>\n",
       "    .dataframe tbody tr th:only-of-type {\n",
       "        vertical-align: middle;\n",
       "    }\n",
       "\n",
       "    .dataframe tbody tr th {\n",
       "        vertical-align: top;\n",
       "    }\n",
       "\n",
       "    .dataframe thead th {\n",
       "        text-align: right;\n",
       "    }\n",
       "</style>\n",
       "<table border=\"1\" class=\"dataframe\">\n",
       "  <thead>\n",
       "    <tr style=\"text-align: right;\">\n",
       "      <th></th>\n",
       "      <th>ID</th>\n",
       "      <th>ProdID</th>\n",
       "      <th>Category</th>\n",
       "      <th>Brand</th>\n",
       "      <th>Name</th>\n",
       "      <th>Description</th>\n",
       "      <th>ImageUrl</th>\n",
       "      <th>Tags</th>\n",
       "      <th>Rating</th>\n",
       "      <th>ReviewsCount</th>\n",
       "    </tr>\n",
       "  </thead>\n",
       "  <tbody>\n",
       "    <tr>\n",
       "      <th>0</th>\n",
       "      <td>1.705737e+09</td>\n",
       "      <td>2.0</td>\n",
       "      <td>Premium Beauty &gt; Premium Makeup &gt; Premium Nail...</td>\n",
       "      <td>OPI</td>\n",
       "      <td>OPI Infinite Shine, Nail Lacquer Nail Polish, ...</td>\n",
       "      <td></td>\n",
       "      <td>https://i5.walmartimages.com/asr/0e1f4c51-c1a4...</td>\n",
       "      <td>OPI Infinite Shine, Nail Lacquer Nail Polish, ...</td>\n",
       "      <td>0.0</td>\n",
       "      <td>0.0</td>\n",
       "    </tr>\n",
       "    <tr>\n",
       "      <th>1</th>\n",
       "      <td>9.500000e+01</td>\n",
       "      <td>76.0</td>\n",
       "      <td>Beauty &gt; Hair Care &gt; Hair Color &gt; Auburn Hair ...</td>\n",
       "      <td>Nice'n Easy</td>\n",
       "      <td>Nice n Easy Permanent Color, 111 Natural Mediu...</td>\n",
       "      <td>Pack of 3 Pack of 3 for the UPC: 381519000201 ...</td>\n",
       "      <td>https://i5.walmartimages.com/asr/9c8e42e4-13a5...</td>\n",
       "      <td>Nice 'n Easy Permanent Color, 111 Natural Medi...</td>\n",
       "      <td>0.0</td>\n",
       "      <td>0.0</td>\n",
       "    </tr>\n",
       "    <tr>\n",
       "      <th>2</th>\n",
       "      <td>8.000000e+00</td>\n",
       "      <td>8.0</td>\n",
       "      <td>Beauty &gt; Hair Care &gt; Hair Color &gt; Permanent Ha...</td>\n",
       "      <td>Clairol</td>\n",
       "      <td>Clairol Nice N Easy Permanent Color 7/106A Nat...</td>\n",
       "      <td>This Clairol Nice N Easy Permanent Color gives...</td>\n",
       "      <td>https://i5.walmartimages.com/asr/e3a601c2-6a2b...</td>\n",
       "      <td>Clairol Nice 'N Easy Permanent Color 7/106A Na...</td>\n",
       "      <td>4.5</td>\n",
       "      <td>29221.0</td>\n",
       "    </tr>\n",
       "    <tr>\n",
       "      <th>3</th>\n",
       "      <td>4.000000e+00</td>\n",
       "      <td>3.0</td>\n",
       "      <td>Beauty &gt; Makeup &gt; Lip</td>\n",
       "      <td>Kokie Cosmetics</td>\n",
       "      <td>Kokie Professional Matte Lipstick, Hot Berry, ...</td>\n",
       "      <td>Calling all matte lip lovers! Indulge in our r...</td>\n",
       "      <td>https://i5.walmartimages.com/asr/25b4b467-bc61...</td>\n",
       "      <td>Kokie Professional Matte Lipstick, Hot Berry, ...</td>\n",
       "      <td>0.0</td>\n",
       "      <td>0.0</td>\n",
       "    </tr>\n",
       "    <tr>\n",
       "      <th>4</th>\n",
       "      <td>9.900000e+02</td>\n",
       "      <td>3.0</td>\n",
       "      <td>Seasonal &gt; Stock Up Essentials &gt; Personal Care...</td>\n",
       "      <td>Gillette</td>\n",
       "      <td>Gillette TRAC II Plus Razor Blade Refills, Fit...</td>\n",
       "      <td>In 1971, Gillette introduced the Trac II razor...</td>\n",
       "      <td>https://i5.walmartimages.com/asr/1a2ebb06-cd01...</td>\n",
       "      <td>Gillette TRAC II Plus Razor Blade Refills, Fit...</td>\n",
       "      <td>0.0</td>\n",
       "      <td>131.0</td>\n",
       "    </tr>\n",
       "  </tbody>\n",
       "</table>\n",
       "</div>"
      ],
      "text/plain": [
       "             ID  ProdID                                           Category  \\\n",
       "0  1.705737e+09     2.0  Premium Beauty > Premium Makeup > Premium Nail...   \n",
       "1  9.500000e+01    76.0  Beauty > Hair Care > Hair Color > Auburn Hair ...   \n",
       "2  8.000000e+00     8.0  Beauty > Hair Care > Hair Color > Permanent Ha...   \n",
       "3  4.000000e+00     3.0                              Beauty > Makeup > Lip   \n",
       "4  9.900000e+02     3.0  Seasonal > Stock Up Essentials > Personal Care...   \n",
       "\n",
       "             Brand                                               Name  \\\n",
       "0              OPI  OPI Infinite Shine, Nail Lacquer Nail Polish, ...   \n",
       "1      Nice'n Easy  Nice n Easy Permanent Color, 111 Natural Mediu...   \n",
       "2          Clairol  Clairol Nice N Easy Permanent Color 7/106A Nat...   \n",
       "3  Kokie Cosmetics  Kokie Professional Matte Lipstick, Hot Berry, ...   \n",
       "4         Gillette  Gillette TRAC II Plus Razor Blade Refills, Fit...   \n",
       "\n",
       "                                         Description  \\\n",
       "0                                                      \n",
       "1  Pack of 3 Pack of 3 for the UPC: 381519000201 ...   \n",
       "2  This Clairol Nice N Easy Permanent Color gives...   \n",
       "3  Calling all matte lip lovers! Indulge in our r...   \n",
       "4  In 1971, Gillette introduced the Trac II razor...   \n",
       "\n",
       "                                            ImageUrl  \\\n",
       "0  https://i5.walmartimages.com/asr/0e1f4c51-c1a4...   \n",
       "1  https://i5.walmartimages.com/asr/9c8e42e4-13a5...   \n",
       "2  https://i5.walmartimages.com/asr/e3a601c2-6a2b...   \n",
       "3  https://i5.walmartimages.com/asr/25b4b467-bc61...   \n",
       "4  https://i5.walmartimages.com/asr/1a2ebb06-cd01...   \n",
       "\n",
       "                                                Tags  Rating  ReviewsCount  \n",
       "0  OPI Infinite Shine, Nail Lacquer Nail Polish, ...     0.0           0.0  \n",
       "1  Nice 'n Easy Permanent Color, 111 Natural Medi...     0.0           0.0  \n",
       "2  Clairol Nice 'N Easy Permanent Color 7/106A Na...     4.5       29221.0  \n",
       "3  Kokie Professional Matte Lipstick, Hot Berry, ...     0.0           0.0  \n",
       "4  Gillette TRAC II Plus Razor Blade Refills, Fit...     0.0         131.0  "
      ]
     },
     "execution_count": 10,
     "metadata": {},
     "output_type": "execute_result"
    }
   ],
   "source": [
    "df1 = df\n",
    "df1.head()"
   ]
  },
  {
   "cell_type": "markdown",
   "metadata": {},
   "source": [
    "### Get Uniques values count for analysis and visualization"
   ]
  },
  {
   "cell_type": "code",
   "execution_count": 11,
   "metadata": {},
   "outputs": [
    {
     "name": "stdout",
     "output_type": "stream",
     "text": [
      "Unique users :  1721\n",
      "Unique Products :  1697\n",
      "Unique Ratings :  36\n",
      "Unique Category :  989\n",
      "Unique Brand :  1601\n"
     ]
    }
   ],
   "source": [
    "num_users = df['ID'].nunique()\n",
    "num_items = df['ProdID'].nunique()\n",
    "num_rating = df['Rating'].nunique()\n",
    "num_category = df['Category'].nunique()\n",
    "num_brand = df['Brand'].nunique()\n",
    "print(\"Unique users : \", num_users)\n",
    "print(\"Unique Products : \", num_items)\n",
    "print(\"Unique Ratings : \", num_rating)\n",
    "print(\"Unique Category : \", num_category)\n",
    "print(\"Unique Brand : \", num_brand)"
   ]
  },
  {
   "cell_type": "markdown",
   "metadata": {},
   "source": [
    "#### Most popular Items"
   ]
  },
  {
   "cell_type": "code",
   "execution_count": 12,
   "metadata": {},
   "outputs": [
    {
     "data": {
      "text/plain": [
       "Text(0.5, 1.0, 'Most popular Items')"
      ]
     },
     "execution_count": 12,
     "metadata": {},
     "output_type": "execute_result"
    },
    {
     "data": {
      "image/png": "[encoded data removed]",
      "text/plain": [
       "<Figure size 432x288 with 1 Axes>"
      ]
     },
     "metadata": {
      "needs_background": "light"
     },
     "output_type": "display_data"
    }
   ],
   "source": [
    "popular_items = df['ProdID'].value_counts().head(5)\n",
    "popular_items.plot(kind = 'bar')\n",
    "plt.title(\"Most popular Items\")"
   ]
  },
  {
   "cell_type": "markdown",
   "metadata": {},
   "source": [
    "#### Most popular Catagories"
   ]
  },
  {
   "cell_type": "code",
   "execution_count": 13,
   "metadata": {},
   "outputs": [
    {
     "data": {
      "text/plain": [
       "Text(0.5, 1.0, 'Most popular categories')"
      ]
     },
     "execution_count": 13,
     "metadata": {},
     "output_type": "execute_result"
    },
    {
     "data": {
      "image/png": "[encoded data removed]",
      "text/plain": [
       "<Figure size 432x288 with 1 Axes>"
      ]
     },
     "metadata": {
      "needs_background": "light"
     },
     "output_type": "display_data"
    }
   ],
   "source": [
    "popular_items = df['Category'].value_counts().head(5)\n",
    "popular_items.plot(kind = 'bar')\n",
    "plt.title(\"Most popular categories\")"
   ]
  },
  {
   "cell_type": "markdown",
   "metadata": {},
   "source": [
    "### Most Popular Brands"
   ]
  },
  {
   "cell_type": "code",
   "execution_count": 14,
   "metadata": {},
   "outputs": [
    {
     "data": {
      "image/png": "[encoded data removed]",
      "text/plain": [
       "<Figure size 1440x720 with 1 Axes>"
      ]
     },
     "metadata": {
      "needs_background": "light"
     },
     "output_type": "display_data"
    }
   ],
   "source": [
    "popular_brand = df['Brand'].value_counts().head(100)  # Adjust the number as needed\n",
    "plt.figure(figsize=(20, 10))  # Adjust the figsize to fit the plot\n",
    "popular_brand.plot(kind='bar')\n",
    "plt.title(\"Most Popular Brands\")\n",
    "plt.xlabel(\"Brand\")\n",
    "plt.ylabel(\"Count\")\n",
    "plt.xticks(rotation=90)  # Rotate x-axis labels to fit them better\n",
    "plt.show()"
   ]
  },
  {
   "cell_type": "code",
   "execution_count": 15,
   "metadata": {},
   "outputs": [
    {
     "data": {
      "text/html": [
       "<div>\n",
       "<style scoped>\n",
       "    .dataframe tbody tr th:only-of-type {\n",
       "        vertical-align: middle;\n",
       "    }\n",
       "\n",
       "    .dataframe tbody tr th {\n",
       "        vertical-align: top;\n",
       "    }\n",
       "\n",
       "    .dataframe thead th {\n",
       "        text-align: right;\n",
       "    }\n",
       "</style>\n",
       "<table border=\"1\" class=\"dataframe\">\n",
       "  <thead>\n",
       "    <tr style=\"text-align: right;\">\n",
       "      <th></th>\n",
       "      <th>Rating</th>\n",
       "      <th>ProdID</th>\n",
       "      <th>Count</th>\n",
       "    </tr>\n",
       "  </thead>\n",
       "  <tbody>\n",
       "    <tr>\n",
       "      <th>2249</th>\n",
       "      <td>5.0</td>\n",
       "      <td>3.0</td>\n",
       "      <td>25</td>\n",
       "    </tr>\n",
       "    <tr>\n",
       "      <th>2246</th>\n",
       "      <td>5.0</td>\n",
       "      <td>0.0</td>\n",
       "      <td>23</td>\n",
       "    </tr>\n",
       "    <tr>\n",
       "      <th>2248</th>\n",
       "      <td>5.0</td>\n",
       "      <td>2.0</td>\n",
       "      <td>23</td>\n",
       "    </tr>\n",
       "    <tr>\n",
       "      <th>2255</th>\n",
       "      <td>5.0</td>\n",
       "      <td>9.0</td>\n",
       "      <td>22</td>\n",
       "    </tr>\n",
       "    <tr>\n",
       "      <th>2253</th>\n",
       "      <td>5.0</td>\n",
       "      <td>7.0</td>\n",
       "      <td>20</td>\n",
       "    </tr>\n",
       "    <tr>\n",
       "      <th>2247</th>\n",
       "      <td>5.0</td>\n",
       "      <td>1.0</td>\n",
       "      <td>18</td>\n",
       "    </tr>\n",
       "    <tr>\n",
       "      <th>2251</th>\n",
       "      <td>5.0</td>\n",
       "      <td>5.0</td>\n",
       "      <td>15</td>\n",
       "    </tr>\n",
       "    <tr>\n",
       "      <th>2254</th>\n",
       "      <td>5.0</td>\n",
       "      <td>8.0</td>\n",
       "      <td>12</td>\n",
       "    </tr>\n",
       "    <tr>\n",
       "      <th>2250</th>\n",
       "      <td>5.0</td>\n",
       "      <td>4.0</td>\n",
       "      <td>11</td>\n",
       "    </tr>\n",
       "    <tr>\n",
       "      <th>2252</th>\n",
       "      <td>5.0</td>\n",
       "      <td>6.0</td>\n",
       "      <td>11</td>\n",
       "    </tr>\n",
       "  </tbody>\n",
       "</table>\n",
       "</div>"
      ],
      "text/plain": [
       "      Rating  ProdID  Count\n",
       "2249     5.0     3.0     25\n",
       "2246     5.0     0.0     23\n",
       "2248     5.0     2.0     23\n",
       "2255     5.0     9.0     22\n",
       "2253     5.0     7.0     20\n",
       "2247     5.0     1.0     18\n",
       "2251     5.0     5.0     15\n",
       "2254     5.0     8.0     12\n",
       "2250     5.0     4.0     11\n",
       "2252     5.0     6.0     11"
      ]
     },
     "execution_count": 15,
     "metadata": {},
     "output_type": "execute_result"
    }
   ],
   "source": [
    "# Count occurrences of each combination of 'Rating' and 'ProdID'\n",
    "top_rated_products = (\n",
    "    df.groupby(['Rating', 'ProdID'])\n",
    "    .size()\n",
    "    .reset_index(name='Count')  # Convert to DataFrame and name the count column\n",
    "    .sort_values(by=['Rating', 'Count'], ascending=[False, False])  # Sort by Rating, then Count\n",
    "    .head(10)  # Get the top 5\n",
    ")\n",
    "\n",
    "top_rated_products"
   ]
  },
  {
   "cell_type": "markdown",
   "metadata": {},
   "source": [
    "### Top-rated Products"
   ]
  },
  {
   "cell_type": "code",
   "execution_count": 16,
   "metadata": {},
   "outputs": [
    {
     "data": {
      "image/png": "[encoded data removed]",
      "text/plain": [
       "<Figure size 720x432 with 1 Axes>"
      ]
     },
     "metadata": {
      "needs_background": "light"
     },
     "output_type": "display_data"
    }
   ],
   "source": [
    "# Bar plot for top-rated products\n",
    "plt.figure(figsize=(10, 6))\n",
    "sns.barplot(\n",
    "    x='ProdID',\n",
    "    y='Rating',\n",
    "    data=top_rated_products,\n",
    "    hue='Count',\n",
    "    palette='viridis'\n",
    ")\n",
    "\n",
    "# Customizing the plot\n",
    "plt.title('Top 5 Rated Products', fontsize=16)\n",
    "plt.xlabel('Product ID', fontsize=12)\n",
    "plt.ylabel('Rating', fontsize=12)\n",
    "plt.legend(title='Count', loc='upper right')\n",
    "plt.xticks(fontsize=10)\n",
    "plt.yticks(fontsize=10)\n",
    "plt.tight_layout()\n",
    "plt.show()"
   ]
  },
  {
   "cell_type": "code",
   "execution_count": 17,
   "metadata": {},
   "outputs": [],
   "source": [
    "# Preprocess Tags column\n",
    "import string\n",
    "from sklearn.feature_extraction.text import ENGLISH_STOP_WORDS\n",
    "\n",
    "def clean_tags(text):\n",
    "    if pd.isna(text):\n",
    "        return \"\"\n",
    "    text = text.lower()\n",
    "    text = text.translate(str.maketrans(\"\", \"\", string.punctuation))\n",
    "    words = text.split()\n",
    "    words = [word for word in words if word not in ENGLISH_STOP_WORDS]\n",
    "    return \",\".join(words)\n",
    "\n",
    "df[\"Tags\"] = df[\"Tags\"].apply(clean_tags)"
   ]
  },
  {
   "cell_type": "markdown",
   "metadata": {},
   "source": [
    "### Feature Correlation Matrix"
   ]
  },
  {
   "cell_type": "code",
   "execution_count": 18,
   "metadata": {},
   "outputs": [
    {
     "data": {
      "image/png": "[encoded data removed]",
      "text/plain": [
       "<Figure size 720x360 with 2 Axes>"
      ]
     },
     "metadata": {
      "needs_background": "light"
     },
     "output_type": "display_data"
    }
   ],
   "source": [
    "plt.figure(figsize=(10, 5))\n",
    "sns.heatmap(df.corr(), annot=True, cmap='coolwarm')\n",
    "plt.title(\"Feature Correlation Matrix\")\n",
    "plt.show()\n"
   ]
  },
  {
   "cell_type": "markdown",
   "metadata": {},
   "source": [
    "### PCA for dimensionality reduction"
   ]
  },
  {
   "cell_type": "code",
   "execution_count": 19,
   "metadata": {},
   "outputs": [],
   "source": [
    "class PCA:\n",
    "    def __init__(self, target_explained_variance=None):\n",
    "        self.target_explained_variance = target_explained_variance\n",
    "        self.feature_size = -1\n",
    "\n",
    "    def standardize(self, X):\n",
    "        from sklearn.preprocessing import StandardScaler\n",
    "        scaler = StandardScaler()\n",
    "        return scaler.fit_transform(X)\n",
    "\n",
    "    def compute_mean_vector(self, X_std):\n",
    "        return np.mean(X_std, axis=0)\n",
    "\n",
    "    def compute_cov(self, X_std, mean_vec):\n",
    "        m = X_std.shape[0]\n",
    "        X_centered = X_std - mean_vec\n",
    "        return (X_centered.T @ X_centered) / (m - 1)\n",
    "\n",
    "    def compute_eigen_vector(self, cov_mat):\n",
    "        eigen_values, eigen_vectors = np.linalg.eig(cov_mat)\n",
    "        return eigen_values, eigen_vectors\n",
    "\n",
    "    def compute_explained_variance(self, eigen_vals):\n",
    "        total = np.sum(eigen_vals)\n",
    "        explained_variance = eigen_vals / total\n",
    "        return explained_variance\n",
    "\n",
    "    def cumulative_sum(self, var_exp):\n",
    "        return np.cumsum(var_exp)\n",
    "\n",
    "    def compute_weight_matrix(self, eig_pairs, cum_var_exp):\n",
    "        cum_var_exp = np.array(cum_var_exp)\n",
    "        num_components = np.argmax(cum_var_exp >= self.target_explained_variance)\n",
    "        matrix_w = np.hstack(\n",
    "            [eig_pairs[i][1].reshape(-1, 1) for i in range(num_components)]\n",
    "        )\n",
    "        return matrix_w\n",
    "\n",
    "    def transform_data(self, X_std, matrix_w):\n",
    "        return X_std.dot(matrix_w)\n",
    "\n",
    "    def fit(self, X):\n",
    "        self.feature_size = X.shape[1]\n",
    "        X_std = self.standardize(X)\n",
    "        mean_vec = self.compute_mean_vector(X_std)\n",
    "        cov_mat = self.compute_cov(X_std, mean_vec)\n",
    "        eigen_vals, eigen_vecs = self.compute_eigen_vector(cov_mat)\n",
    "        explained_variance = self.compute_explained_variance(eigen_vals)\n",
    "        cum_var_exp = self.cumulative_sum(explained_variance)\n",
    "        eig_pairs = [(eigen_vals[i], eigen_vecs[:, i]) for i in range(len(eigen_vals))]\n",
    "        eig_pairs.sort(key=lambda x: x[0], reverse=True)\n",
    "        matrix_w = self.compute_weight_matrix(eig_pairs, cum_var_exp)\n",
    "        return self.transform_data(X_std=X_std, matrix_w=matrix_w)"
   ]
  },
  {
   "cell_type": "code",
   "execution_count": 20,
   "metadata": {},
   "outputs": [
    {
     "name": "stdout",
     "output_type": "stream",
     "text": [
      "Reduced dimensions: 1\n"
     ]
    }
   ],
   "source": [
    "# Select numeric columns for clustering\n",
    "X = df[[\"Rating\", \"ReviewsCount\"]]\n",
    "\n",
    "# PCA for Dimensionality Reduction\n",
    "pca = PCA(target_explained_variance=0.95)\n",
    "X_pca = pca.fit(X)\n",
    "print(f\"Reduced dimensions: {X_pca.shape[1]}\")"
   ]
  },
  {
   "cell_type": "markdown",
   "metadata": {},
   "source": [
    "# 3. Unsupervised Model building - Train and Test"
   ]
  },
  {
   "cell_type": "code",
   "execution_count": 21,
   "metadata": {},
   "outputs": [],
   "source": [
    "train_df, test_df = train_test_split(df, test_size=0.2, random_state=42)"
   ]
  },
  {
   "cell_type": "markdown",
   "metadata": {},
   "source": [
    "#### Rating-Based Recommendation using Hierarchical Clustering"
   ]
  },
  {
   "cell_type": "code",
   "execution_count": 22,
   "metadata": {},
   "outputs": [],
   "source": [
    "# Rating-Based Recommendation using Hierarchical Clustering\n",
    "# Fit Agglomerative Clustering to train data\n",
    "features_train = train_df[[\"Rating\", \"ReviewsCount\"]].values\n",
    "n_clusters = 10  # Optimal clusters can be tuned\n",
    "hc = AgglomerativeClustering(n_clusters=n_clusters)\n",
    "train_df[\"Cluster\"] = hc.fit_predict(features_train)\n",
    "\n",
    "def recommend_by_rating(product_name, train_df,category_name, top_n):\n",
    "    category_df = train_df[train_df[\"Category\"] == category_name]\n",
    "    \n",
    "    # Check if the product exists in the filtered data\n",
    "    if product_name not in category_df[\"Name\"].values:\n",
    "        return pd.DataFrame()  # Return an empty dataframe if the product is not found\n",
    "    \n",
    "    # Get the cluster of the product\n",
    "    product_cluster = category_df[category_df[\"Name\"] == product_name][\"Cluster\"].values[0]\n",
    " \n",
    "    # Filter the products in the same cluster and the same category\n",
    "    category_cluster_products = category_df[category_df[\"Cluster\"] == product_cluster]\n",
    "    \n",
    "    # Exclude the input product itself (optional)\n",
    "    category_cluster_products = category_cluster_products[category_cluster_products[\"Name\"] != product_name]\n",
    "    # Sort by rating in descending order\n",
    "    similar_products = category_cluster_products.nlargest(top_n, \"Rating\")\n",
    "     \n",
    "    # Return the top N most similar products based on rating\n",
    "    return similar_products[[\"Name\", \"Rating\"]]"
   ]
  },
  {
   "cell_type": "markdown",
   "metadata": {},
   "source": [
    "#### Content-Based Recommendation using TF-IDF and Cosine Similarity"
   ]
  },
  {
   "cell_type": "code",
   "execution_count": 23,
   "metadata": {},
   "outputs": [],
   "source": [
    "# Content-Based Recommendation using TF-IDF and Cosine Similarity\n",
    "# Fit TfidfVectorizer to train data\n",
    "vectorizer = TfidfVectorizer()\n",
    "tfidf_matrix_train = vectorizer.fit_transform(train_df[\"Tags\"])  # Matrix of TF-IDF values for train data\n",
    "content_similarity_train = cosine_similarity(tfidf_matrix_train)  # Cosine similarity between product tags\n",
    "\n",
    "\n",
    "def recommend_by_content(product_name, train_df,category_name, top_n):\n",
    "    category_df = train_df[train_df[\"Category\"] == category_name]\n",
    "    # Ensure the product name exists in the train_df\n",
    "    if product_name not in category_df[\"Name\"].values:\n",
    "        return pd.DataFrame()  # Return an empty dataframe if the product is not found\n",
    "\n",
    "    # Find the index of the product in the train_df after resetting the index\n",
    "    idx = category_df[category_df[\"Name\"] == product_name].index[0]  # Find the index of the product\n",
    "    if idx >= len(content_similarity_train):  # Check if the index exceeds the size of the matrix\n",
    "        return pd.DataFrame()  # Return an empty dataframe if index is out of bounds\n",
    "\n",
    "    # Get similarity scores for the product\n",
    "    scores = list(enumerate(content_similarity_train[idx]))\n",
    "    scores = sorted(scores, key=lambda x: x[1], reverse=True)  # Sort by similarity score\n",
    "    top_indices = [i[0] for i in scores[1:top_n+1]]  # Get the top N similar products\n",
    "    return train_df.iloc[top_indices][[\"Name\", \"Tags\"]]  # Return the top N similar products\n",
    "\n"
   ]
  },
  {
   "cell_type": "markdown",
   "metadata": {},
   "source": [
    "### Evaluate Recommendation Systems (Train-Test split)"
   ]
  },
  {
   "cell_type": "code",
   "execution_count": 24,
   "metadata": {},
   "outputs": [
    {
     "data": {
      "text/markdown": [
       "**Product:** Australian Gold Botanical Natural Sunscreen Continuous Spray"
      ],
      "text/plain": [
       "<IPython.core.display.Markdown object>"
      ]
     },
     "metadata": {},
     "output_type": "display_data"
    },
    {
     "data": {
      "text/markdown": [
       "**Rating-Based Recommendations:** [['Australian Gold Sunscreen High Strength SPF 15 Waterproof Sunscreen Moisturizing Lotion', 4.9], ['Hawaiian Tropic Silk Hydration Weightless Sunscreen Lotion', 4.8], ['Sun Bum Sun Bum Sunscreen Face Stick, 0.45 oz', 4.8], ['Hawaiian Tropic Silk Hydration Weightless Sunscreen Lotion', 4.8], ['Banana Boat Ultra Sport Clear Sunscreen Spray SPF 100, 6 oz', 4.6]]"
      ],
      "text/plain": [
       "<IPython.core.display.Markdown object>"
      ]
     },
     "metadata": {},
     "output_type": "display_data"
    },
    {
     "data": {
      "text/markdown": [
       "**Content-Based Recommendations:** [['OPI Nail GelColor Gel Polish NEON Color .5oz/15mL - Positive Vibes Only GCN73', 'opi,nail,gelcolor,gel,polish,neon,color,5oz15ml,positive,vibes,gcn73,walmart,walmartcom'], ['OPI Infinite Shine Nail Polish, Mini Scotland Collection, 0.13 Oz (Set of 5)', 'opi,infinite,shine,nail,polish,mini,scotland,collection,013,oz,set,5,walmart,walmartcom'], ['Sally Hansen Miracle Gel, 051 Peach Please (Neon), 0.5 fl oz', 'sally,hansen,miracle,gel,051,peach,neon,05,fl,oz,walmart,walmartcom'], ['Sally Hansen Miracle Gel, 053 Miami Ice (Neon), 0.5 fl oz', 'sally,hansen,miracle,gel,053,miami,ice,neon,05,fl,oz,walmart,walmartcom'], ['CHINA GLAZE Nail Lacquer - Metro Collection - Trendsetter', 'china,glaze,nail,lacquer,metro,collection,trendsetter,walmart,walmartcom']]"
      ],
      "text/plain": [
       "<IPython.core.display.Markdown object>"
      ]
     },
     "metadata": {},
     "output_type": "display_data"
    },
    {
     "name": "stdout",
     "output_type": "stream",
     "text": [
      "----------------------------------------\n"
     ]
    },
    {
     "data": {
      "text/markdown": [
       "**Product:** MAYBELLINE"
      ],
      "text/plain": [
       "<IPython.core.display.Markdown object>"
      ]
     },
     "metadata": {},
     "output_type": "display_data"
    },
    {
     "data": {
      "text/markdown": [
       "**Rating-Based Recommendations:** [['Maybelline Expert Wear Trios Eyeshadow, 0.13 oz', 4.7], ['Maybelline Expert Wear Duos Eyeshadow, 0.08 oz', 3.5], ['Maybelline EyeStudio Color Plush Silk Eyeshadow', 0.0], ['Maybelline Expertwear Monos Eyeshadow 20S Linen', 0.0], ['Maybelline EyeStudio Color Tattoo 24Hr Eyeshadow, Bad To The Bronze [25], 0.14 oz (Pack of 4)', 0.0]]"
      ],
      "text/plain": [
       "<IPython.core.display.Markdown object>"
      ]
     },
     "metadata": {},
     "output_type": "display_data"
    },
    {
     "data": {
      "text/markdown": [
       "**Content-Based Recommendations:** [['Foundation', 'foundation,walmart,walmartcom'], ['PHOERA Liquid Foundation Professional Makeup Full Coverage Fast Base Brighten long-lasting Shade', 'phoera,liquid,foundation,professional,makeup,coverage,fast,base,brighten,longlasting,shade,walmart,walmartcom'], ['PHOERA Liquid Foundation Professional Makeup Full Coverage Fast Base Brighten long-lasting Shade', 'phoera,liquid,foundation,professional,makeup,coverage,fast,base,brighten,longlasting,shade,walmart,walmartcom'], ['Maybelline Pure Makeup', 'maybelline,pure,makeup,walmart,walmartcom'], ['Maybelline: Classic Ivory Pure Makeup Shine-Free Foundation, 1 Fl Oz', 'maybelline,classic,ivory,pure,makeup,shinefree,foundation,1,fl,oz,walmart,walmartcom']]"
      ],
      "text/plain": [
       "<IPython.core.display.Markdown object>"
      ]
     },
     "metadata": {},
     "output_type": "display_data"
    },
    {
     "name": "stdout",
     "output_type": "stream",
     "text": [
      "----------------------------------------\n"
     ]
    },
    {
     "data": {
      "text/markdown": [
       "**Product:** Compagnie de Provence Savon de Marseille Extra Pure Liquid Soap Made in France"
      ],
      "text/plain": [
       "<IPython.core.display.Markdown object>"
      ]
     },
     "metadata": {},
     "output_type": "display_data"
    },
    {
     "data": {
      "text/markdown": [
       "**Rating-Based Recommendations:** [['Juicy Couture Perfumed Soap 5.25oz/150g New', 5.0], ['Ahava Natural Dead Sea Mud Gift Box, 13.6 Oz', 5.0], ['Dermalogica Conditioning Body Wash Pro 32 oz (FREE SHIPPING)', 5.0], ['Kneipp Mineral Bath Salt, Deep Breathe, Pine and Fir, 2.1 oz.', 5.0], ['Erno Laszlo Sea Mud Deep Cleansing Bar, 3.4 Oz', 4.3]]"
      ],
      "text/plain": [
       "<IPython.core.display.Markdown object>"
      ]
     },
     "metadata": {},
     "output_type": "display_data"
    },
    {
     "data": {
      "text/markdown": [
       "**Content-Based Recommendations:** [['Rusk Sensories Pure Mandarin and Jasmine Shampoo - 13.5 oz Shampoo', 'rusk,sensories,pure,mandarin,jasmine,shampoo,135,oz,shampoo,walmart,walmartcom'], ['Rusk Sensories Calm Guarana and Ginger Nourishing Shampoo', 'rusk,sensories,calm,guarana,ginger,nourishing,shampoo,walmart,walmartcom'], ['Volumizing Therapy Shampoo by Biosilk for Unisex - 7 oz Shampoo', 'volumizing,therapy,shampoo,biosilk,unisex,7,oz,shampoo,walmart,walmartcom'], ['Redken Extreme Shampoo, 33.8 oz', 'redken,extreme,shampoo,338,oz,walmart,walmartcom'], ['Paul Mitchell Tea Tree Special Shampoo, 16.9 Oz', 'paul,mitchell,tea,tree,special,shampoo,169,oz,walmart,walmartcom']]"
      ],
      "text/plain": [
       "<IPython.core.display.Markdown object>"
      ]
     },
     "metadata": {},
     "output_type": "display_data"
    },
    {
     "name": "stdout",
     "output_type": "stream",
     "text": [
      "----------------------------------------\n"
     ]
    },
    {
     "data": {
      "text/markdown": [
       "**Product:** Dial Antibacterial Liquid Hand Soap, Spring Water, 7.5 Ounce (Pack of 10)"
      ],
      "text/plain": [
       "<IPython.core.display.Markdown object>"
      ]
     },
     "metadata": {},
     "output_type": "display_data"
    },
    {
     "data": {
      "text/markdown": [
       "**Rating-Based Recommendations:** [['Antibacterial Hand Soap - 5 gallon pail', 5.0], ['Softsoap Brand Clear Hand Soap Refill (80 oz. bottles, 2 pack)', 5.0], ['Stockhausen SHN-GPF3LNA Solopol Gfx Heavy Duty Foam Hand Cleaner, 3.25l Cartridge', 5.0], ['Deep Steep Foaming Hand Wash Grapefruit-Bergamot 8 fl oz 237ml', 5.0], ['Dl Permatex Blue Label 01406 Cream Hand Cleaner 4.5 Lb Plastic Tub', 5.0]]"
      ],
      "text/plain": [
       "<IPython.core.display.Markdown object>"
      ]
     },
     "metadata": {},
     "output_type": "display_data"
    },
    {
     "data": {
      "text/markdown": [
       "**Content-Based Recommendations:** [['Honeybee Garden Pressed Mineral Powder Foundation Sundance', 'honeybee,garden,pressed,mineral,powder,foundation,sundance,walmart,walmartcom'], ['Maybelline Mineral Powder Natural Perfecting Foundation, 1 fl oz', 'maybelline,mineral,powder,natural,perfecting,foundation,1,fl,oz,walmart,walmartcom'], ['Liquid Mineral Foundation - Pebble by Youngblood for Women - 1 oz Foundation', 'liquid,mineral,foundation,pebble,youngblood,women,1,oz,foundation,walmart,walmartcom'], ['Physicians Formula Mineral Wear Talc-Free Mineral Correcting Powder, Creamy Natural', 'physicians,formula,mineral,wear®,talcfree,mineral,correcting,powder,creamy,natural,walmart,walmartcom'], ['Clarins Ever Matte Shine Control Mineral Powder Compact, Transparent Medium 0.3 oz', 'clarins,matte,shine,control,mineral,powder,compact,transparent,medium,03,oz,walmart,walmartcom']]"
      ],
      "text/plain": [
       "<IPython.core.display.Markdown object>"
      ]
     },
     "metadata": {},
     "output_type": "display_data"
    },
    {
     "name": "stdout",
     "output_type": "stream",
     "text": [
      "----------------------------------------\n"
     ]
    },
    {
     "data": {
      "text/markdown": [
       "**Product:** Mgaxyff Reusable Sanitary Pad,Sanitary Pad,10 Types Women Washable Reusable Bamboo Charcoal Cloth Menstrual Mama Sanitary Maternity Pad"
      ],
      "text/plain": [
       "<IPython.core.display.Markdown object>"
      ]
     },
     "metadata": {},
     "output_type": "display_data"
    },
    {
     "data": {
      "text/markdown": [
       "**Rating-Based Recommendations:** [['3 Pack - Taro Clotrimazole 7 Vaginal Cream 45 g', 5.0], ['5 pcs/set Bamboo Charcoal Heavy Flow Menstrual Sanitary Pads Set Reusable Cloth Feminine Menstrual Pads + 1 pc Washable Wet Bag', 5.0], ['NutraBlast Boric Acid Suppositories 600mg (30 Count) w/Tea Tree Oil Suppositories (12 Count) | All Natural Intimate Deodorant for Women | Restore Feminine pH Balance', 5.0], ['Vagisil Anti-Itch Medicated Wipes 20 Each (Pack of 2)', 5.0], ['FemiClear Vaginal Itch Relief, 0.5 oz | All- Natural & Organic', 5.0]]"
      ],
      "text/plain": [
       "<IPython.core.display.Markdown object>"
      ]
     },
     "metadata": {},
     "output_type": "display_data"
    },
    {
     "data": {
      "text/markdown": [
       "**Content-Based Recommendations:** [['Snooki Ultra Dark 70X Black Bronzer Skin Firming Tanning Bed Lotion by Supre', 'snooki,ultra,dark,70x,black,bronzer,skin,firming,tanning,bed,lotion,supre,walmart,walmartcom'], ['Eminence Organic Skin Care Firm Skin Acai Moisturizer, 2 Oz', 'eminence,organic,skin,care,firm,skin,acai,moisturizer,2,oz,walmart,walmartcom'], ['2 Pack - Australian Gold Dark Tanning Accelerator Spray Gel With Bronzer 8 oz', '2,pack,australian,gold,dark,tanning,accelerator,spray,gel,bronzer,8,oz,walmart,walmartcom'], ['Hot Escapes Bronzer - Tahiti by Buxom for Women - 0.3 oz Bronzer', 'hot,escapes,bronzer,tahiti,buxom,women,03,oz,bronzer,walmart,walmartcom'], ['Physicians Formula Bronze Booster Glow-Boosting Baked Bronzer, Medium to Dark', 'physicians,formula,bronze,booster,glowboosting,baked,bronzer,medium,dark,walmart,walmartcom']]"
      ],
      "text/plain": [
       "<IPython.core.display.Markdown object>"
      ]
     },
     "metadata": {},
     "output_type": "display_data"
    },
    {
     "name": "stdout",
     "output_type": "stream",
     "text": [
      "----------------------------------------\n"
     ]
    }
   ],
   "source": [
    "# Evaluate Recommendation Systems (Train-Test split)\n",
    "from IPython.display import display, Markdown\n",
    "\n",
    "\n",
    "def evaluate_recommendations(test_df, train_df, top_n):\n",
    "    # Filter test_df to include only products that exist in train_df\n",
    "    matched_test_df = test_df[test_df[\"Name\"].isin(train_df[\"Name\"])]\n",
    "    \n",
    "    recommendations = []\n",
    "    \n",
    "    for idx, row in matched_test_df.iterrows():\n",
    "        \n",
    "        product_name = row[\"Name\"]\n",
    "        \n",
    "        category_name = row[\"Category\"]\n",
    "    \n",
    "        # Rating-based Recommendations using train_df\n",
    "        rating_recommendations = recommend_by_rating(product_name, train_df,category_name, top_n)\n",
    "        # content-based Recommendations using train_df\n",
    "        content_recommendations = recommend_by_content(product_name, train_df,category_name, top_n)\n",
    "        if (not rating_recommendations.empty and \"Name\" in rating_recommendations.columns) and (not content_recommendations.empty and \"Name\" in content_recommendations.columns):\n",
    "            recommendations.append({\n",
    "                    \"Product\": product_name,\n",
    "                    \"Rating Recommendations\": rating_recommendations[[\"Name\", \"Rating\"]].values.tolist(),\n",
    "                    \"Content Recommendations\": content_recommendations[[\"Name\",\"Tags\"]].values.tolist()\n",
    "                })\n",
    "  \n",
    "    \n",
    "    return recommendations\n",
    "\n",
    "# Example evaluation\n",
    "eval_recommendations = evaluate_recommendations(test_df,train_df, top_n=5)\n",
    "\n",
    "# Display some example recommendations\n",
    "for rec in eval_recommendations[:5]:  # Print first 5 examples\n",
    "        display(Markdown(f\"**Product:** {rec['Product']}\"))\n",
    "        display(Markdown(f\"**Rating-Based Recommendations:** {rec['Rating Recommendations']}\"))\n",
    "        display(Markdown(f\"**Content-Based Recommendations:** {rec['Content Recommendations']}\"))\n",
    "        print(\"-\" * 40)"
   ]
  },
  {
   "cell_type": "markdown",
   "metadata": {},
   "source": [
    "## Conclusion "
   ]
  },
  {
   "cell_type": "markdown",
   "metadata": {},
   "source": [
    "This demonstrates \"Rating-Based Recommendation\" using Hierarchical Clustering and \"Content-Based Recommendation\" using TF-IDF and Cosine Similarity to suggest products to customers. The two methods complement each other by offering recommendations based on different criteria:\n",
    "\n",
    "Rating-Based Recommendations: This method groups products with similar rating patterns and review counts, providing highly rated products from the same cluster. It ensures customers receive top-rated products in the same category.\n",
    "\n",
    "Content-Based Recommendations: By leveraging product tags and TF-IDF with cosine similarity, this method suggests products with similar descriptions or attributes, regardless of their ratings.\n",
    "\n",
    "The combination of both methods increases the diversity of recommendations, making the system more effective at addressing different customer preferences. This hybrid approach improves user satisfaction by suggesting both high-quality products and those with similar features. Further improvements can be made by tuning hyperparameters or integrating collaborative filtering for personalized recommendations."
   ]
  },
  {
   "cell_type": "markdown",
   "metadata": {},
   "source": [
    "## Supervised Learning Model"
   ]
  },
  {
   "cell_type": "code",
   "execution_count": 25,
   "metadata": {},
   "outputs": [
    {
     "data": {
      "text/html": [
       "<div>\n",
       "<style scoped>\n",
       "    .dataframe tbody tr th:only-of-type {\n",
       "        vertical-align: middle;\n",
       "    }\n",
       "\n",
       "    .dataframe tbody tr th {\n",
       "        vertical-align: top;\n",
       "    }\n",
       "\n",
       "    .dataframe thead th {\n",
       "        text-align: right;\n",
       "    }\n",
       "</style>\n",
       "<table border=\"1\" class=\"dataframe\">\n",
       "  <thead>\n",
       "    <tr style=\"text-align: right;\">\n",
       "      <th></th>\n",
       "      <th>ID</th>\n",
       "      <th>ProdID</th>\n",
       "      <th>Category</th>\n",
       "      <th>Brand</th>\n",
       "      <th>Name</th>\n",
       "      <th>Description</th>\n",
       "      <th>ImageUrl</th>\n",
       "      <th>Tags</th>\n",
       "      <th>Rating</th>\n",
       "      <th>ReviewsCount</th>\n",
       "    </tr>\n",
       "  </thead>\n",
       "  <tbody>\n",
       "    <tr>\n",
       "      <th>0</th>\n",
       "      <td>1.705737e+09</td>\n",
       "      <td>2.0</td>\n",
       "      <td>Premium Beauty &gt; Premium Makeup &gt; Premium Nail...</td>\n",
       "      <td>OPI</td>\n",
       "      <td>OPI Infinite Shine, Nail Lacquer Nail Polish, ...</td>\n",
       "      <td></td>\n",
       "      <td>https://i5.walmartimages.com/asr/0e1f4c51-c1a4...</td>\n",
       "      <td>opi,infinite,shine,nail,lacquer,nail,polish,bu...</td>\n",
       "      <td>0.0</td>\n",
       "      <td>0.0</td>\n",
       "    </tr>\n",
       "    <tr>\n",
       "      <th>1</th>\n",
       "      <td>9.500000e+01</td>\n",
       "      <td>76.0</td>\n",
       "      <td>Beauty &gt; Hair Care &gt; Hair Color &gt; Auburn Hair ...</td>\n",
       "      <td>Nice'n Easy</td>\n",
       "      <td>Nice n Easy Permanent Color, 111 Natural Mediu...</td>\n",
       "      <td>Pack of 3 Pack of 3 for the UPC: 381519000201 ...</td>\n",
       "      <td>https://i5.walmartimages.com/asr/9c8e42e4-13a5...</td>\n",
       "      <td>nice,n,easy,permanent,color,111,natural,medium...</td>\n",
       "      <td>0.0</td>\n",
       "      <td>0.0</td>\n",
       "    </tr>\n",
       "    <tr>\n",
       "      <th>2</th>\n",
       "      <td>8.000000e+00</td>\n",
       "      <td>8.0</td>\n",
       "      <td>Beauty &gt; Hair Care &gt; Hair Color &gt; Permanent Ha...</td>\n",
       "      <td>Clairol</td>\n",
       "      <td>Clairol Nice N Easy Permanent Color 7/106A Nat...</td>\n",
       "      <td>This Clairol Nice N Easy Permanent Color gives...</td>\n",
       "      <td>https://i5.walmartimages.com/asr/e3a601c2-6a2b...</td>\n",
       "      <td>clairol,nice,n,easy,permanent,color,7106a,natu...</td>\n",
       "      <td>4.5</td>\n",
       "      <td>29221.0</td>\n",
       "    </tr>\n",
       "    <tr>\n",
       "      <th>3</th>\n",
       "      <td>4.000000e+00</td>\n",
       "      <td>3.0</td>\n",
       "      <td>Beauty &gt; Makeup &gt; Lip</td>\n",
       "      <td>Kokie Cosmetics</td>\n",
       "      <td>Kokie Professional Matte Lipstick, Hot Berry, ...</td>\n",
       "      <td>Calling all matte lip lovers! Indulge in our r...</td>\n",
       "      <td>https://i5.walmartimages.com/asr/25b4b467-bc61...</td>\n",
       "      <td>kokie,professional,matte,lipstick,hot,berry,01...</td>\n",
       "      <td>0.0</td>\n",
       "      <td>0.0</td>\n",
       "    </tr>\n",
       "    <tr>\n",
       "      <th>4</th>\n",
       "      <td>9.900000e+02</td>\n",
       "      <td>3.0</td>\n",
       "      <td>Seasonal &gt; Stock Up Essentials &gt; Personal Care...</td>\n",
       "      <td>Gillette</td>\n",
       "      <td>Gillette TRAC II Plus Razor Blade Refills, Fit...</td>\n",
       "      <td>In 1971, Gillette introduced the Trac II razor...</td>\n",
       "      <td>https://i5.walmartimages.com/asr/1a2ebb06-cd01...</td>\n",
       "      <td>gillette,trac,ii,plus,razor,blade,refills,fit,...</td>\n",
       "      <td>0.0</td>\n",
       "      <td>131.0</td>\n",
       "    </tr>\n",
       "  </tbody>\n",
       "</table>\n",
       "</div>"
      ],
      "text/plain": [
       "             ID  ProdID                                           Category  \\\n",
       "0  1.705737e+09     2.0  Premium Beauty > Premium Makeup > Premium Nail...   \n",
       "1  9.500000e+01    76.0  Beauty > Hair Care > Hair Color > Auburn Hair ...   \n",
       "2  8.000000e+00     8.0  Beauty > Hair Care > Hair Color > Permanent Ha...   \n",
       "3  4.000000e+00     3.0                              Beauty > Makeup > Lip   \n",
       "4  9.900000e+02     3.0  Seasonal > Stock Up Essentials > Personal Care...   \n",
       "\n",
       "             Brand                                               Name  \\\n",
       "0              OPI  OPI Infinite Shine, Nail Lacquer Nail Polish, ...   \n",
       "1      Nice'n Easy  Nice n Easy Permanent Color, 111 Natural Mediu...   \n",
       "2          Clairol  Clairol Nice N Easy Permanent Color 7/106A Nat...   \n",
       "3  Kokie Cosmetics  Kokie Professional Matte Lipstick, Hot Berry, ...   \n",
       "4         Gillette  Gillette TRAC II Plus Razor Blade Refills, Fit...   \n",
       "\n",
       "                                         Description  \\\n",
       "0                                                      \n",
       "1  Pack of 3 Pack of 3 for the UPC: 381519000201 ...   \n",
       "2  This Clairol Nice N Easy Permanent Color gives...   \n",
       "3  Calling all matte lip lovers! Indulge in our r...   \n",
       "4  In 1971, Gillette introduced the Trac II razor...   \n",
       "\n",
       "                                            ImageUrl  \\\n",
       "0  https://i5.walmartimages.com/asr/0e1f4c51-c1a4...   \n",
       "1  https://i5.walmartimages.com/asr/9c8e42e4-13a5...   \n",
       "2  https://i5.walmartimages.com/asr/e3a601c2-6a2b...   \n",
       "3  https://i5.walmartimages.com/asr/25b4b467-bc61...   \n",
       "4  https://i5.walmartimages.com/asr/1a2ebb06-cd01...   \n",
       "\n",
       "                                                Tags  Rating  ReviewsCount  \n",
       "0  opi,infinite,shine,nail,lacquer,nail,polish,bu...     0.0           0.0  \n",
       "1  nice,n,easy,permanent,color,111,natural,medium...     0.0           0.0  \n",
       "2  clairol,nice,n,easy,permanent,color,7106a,natu...     4.5       29221.0  \n",
       "3  kokie,professional,matte,lipstick,hot,berry,01...     0.0           0.0  \n",
       "4  gillette,trac,ii,plus,razor,blade,refills,fit,...     0.0         131.0  "
      ]
     },
     "execution_count": 25,
     "metadata": {},
     "output_type": "execute_result"
    }
   ],
   "source": [
    "df1.head()"
   ]
  },
  {
   "cell_type": "markdown",
   "metadata": {},
   "source": [
    "Below is the Supervised learning model with accuracy for the same data."
   ]
  },
  {
   "cell_type": "code",
   "execution_count": 26,
   "metadata": {},
   "outputs": [
    {
     "name": "stdout",
     "output_type": "stream",
     "text": [
      "Accuracy: 0.9509126236828654\n"
     ]
    }
   ],
   "source": [
    "from sklearn.linear_model import LogisticRegression\n",
    "from sklearn.preprocessing import LabelEncoder\n",
    "from sklearn.impute import SimpleImputer\n",
    "from sklearn.metrics import accuracy_score\n",
    "from sklearn.preprocessing import StandardScaler\n",
    "\n",
    "# Drop unnecessary columns\n",
    "df1 = df1.drop(columns=['ID', 'ProdID', 'Name', 'Description', 'ImageUrl', 'Tags'])\n",
    "\n",
    "# Handle missing values with median imputation (more robust than mean)\n",
    "imputer = SimpleImputer(strategy='median')\n",
    "df1[['Rating', 'ReviewsCount']] = imputer.fit_transform(df1[['Rating', 'ReviewsCount']])\n",
    "\n",
    "# Convert categorical columns to numeric using one-hot encoding\n",
    "df1 = pd.get_dummies(df1, columns=['Brand'], drop_first=True)  # Drop first to avoid multicollinearity\n",
    "\n",
    "# Define features (X) and target (y)\n",
    "X = df1.drop(columns=['Category']).values  # Convert to NumPy array for efficiency\n",
    "y = df1['Category'].values\n",
    "\n",
    "# Standardize numerical features for better convergence\n",
    "scaler = StandardScaler()\n",
    "X = scaler.fit_transform(X)\n",
    "\n",
    "# Split the data into training and testing sets\n",
    "X_train, X_test, y_train, y_test = train_test_split(X, y, test_size=0.2, random_state=42)\n",
    "\n",
    "# Create and train logistic regression model with optimized solver\n",
    "model = LogisticRegression(max_iter=2000, solver='saga', n_jobs=-1)  # 'saga' handles large datasets better\n",
    "\n",
    "# Train the model\n",
    "model.fit(X_train, y_train)\n",
    "\n",
    "# Make predictions\n",
    "y_pred = model.predict(X_test)\n",
    "\n",
    "# Calculate accuracy\n",
    "accuracy = accuracy_score(y_test, y_pred)\n",
    "\n",
    "print(f'Accuracy: {accuracy:.4f}')"
   ]
  }
 ],
 "metadata": {
  "kernelspec": {
   "display_name": "Python 3",
   "language": "python",
   "name": "python3"
  },
  "language_info": {
   "codemirror_mode": {
    "name": "ipython",
    "version": 3
   },
   "file_extension": ".py",
   "mimetype": "text/x-python",
   "name": "python",
   "nbconvert_exporter": "python",
   "pygments_lexer": "ipython3",
   "version": "3.7.6"
  }
 },
 "nbformat": 4,
 "nbformat_minor": 4
}
